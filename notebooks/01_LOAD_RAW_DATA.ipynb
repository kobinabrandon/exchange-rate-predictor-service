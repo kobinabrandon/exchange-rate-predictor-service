{
 "cells": [
  {
   "cell_type": "code",
   "execution_count": 1,
   "metadata": {},
   "outputs": [],
   "source": [
    "import pandas as pd\n",
    "from datetime import datetime\n",
    "  \n",
    "from src.feature_pipeline.data_extraction import get_daily_ohlc, update_ohlc, get_api_response, get_newest_local_dataset\n",
    "from src.feature_pipeline.data_transformations import transform_ts_data_into_features_and_target, get_preprocessing_pipeline\n",
    "\n",
    "from src.feature_pipeline.feature_engineering import RSI\n",
    "from src.paths import DAILY_DATA_DIR"
   ]
  },
  {
   "cell_type": "markdown",
   "metadata": {},
   "source": [
    "## GBP - GHS"
   ]
  },
  {
   "cell_type": "markdown",
   "metadata": {},
   "source": [
    "### Get Data"
   ]
  },
  {
   "cell_type": "code",
   "execution_count": null,
   "metadata": {},
   "outputs": [],
   "source": [
    "latest_data = update_ohlc()"
   ]
  },
  {
   "cell_type": "code",
   "execution_count": 2,
   "metadata": {},
   "outputs": [],
   "source": [
    "latest_data = get_newest_local_dataset()"
   ]
  },
  {
   "cell_type": "code",
   "execution_count": 3,
   "metadata": {},
   "outputs": [
    {
     "data": {
      "text/html": [
       "<div>\n",
       "<style scoped>\n",
       "    .dataframe tbody tr th:only-of-type {\n",
       "        vertical-align: middle;\n",
       "    }\n",
       "\n",
       "    .dataframe tbody tr th {\n",
       "        vertical-align: top;\n",
       "    }\n",
       "\n",
       "    .dataframe thead th {\n",
       "        text-align: right;\n",
       "    }\n",
       "</style>\n",
       "<table border=\"1\" class=\"dataframe\">\n",
       "  <thead>\n",
       "    <tr style=\"text-align: right;\">\n",
       "      <th></th>\n",
       "      <th>Date</th>\n",
       "      <th>Opening rate (GBPGHS)</th>\n",
       "      <th>Peak rate (GBPGHS)</th>\n",
       "      <th>Lowest rate (GBPGHS)</th>\n",
       "      <th>Closing rate (GBPGHS)</th>\n",
       "    </tr>\n",
       "  </thead>\n",
       "  <tbody>\n",
       "    <tr>\n",
       "      <th>0</th>\n",
       "      <td>2017-01-01</td>\n",
       "      <td>5.112800</td>\n",
       "      <td>5.112800</td>\n",
       "      <td>5.112800</td>\n",
       "      <td>5.112800</td>\n",
       "    </tr>\n",
       "    <tr>\n",
       "      <th>1</th>\n",
       "      <td>2017-01-02</td>\n",
       "      <td>5.267100</td>\n",
       "      <td>5.267100</td>\n",
       "      <td>5.260600</td>\n",
       "      <td>5.266000</td>\n",
       "    </tr>\n",
       "    <tr>\n",
       "      <th>2</th>\n",
       "      <td>2017-01-03</td>\n",
       "      <td>5.181200</td>\n",
       "      <td>5.181200</td>\n",
       "      <td>5.153600</td>\n",
       "      <td>5.155300</td>\n",
       "    </tr>\n",
       "    <tr>\n",
       "      <th>3</th>\n",
       "      <td>2017-01-04</td>\n",
       "      <td>5.158700</td>\n",
       "      <td>5.207100</td>\n",
       "      <td>5.158700</td>\n",
       "      <td>5.179300</td>\n",
       "    </tr>\n",
       "    <tr>\n",
       "      <th>4</th>\n",
       "      <td>2017-01-05</td>\n",
       "      <td>5.261700</td>\n",
       "      <td>5.261700</td>\n",
       "      <td>5.254600</td>\n",
       "      <td>5.256000</td>\n",
       "    </tr>\n",
       "    <tr>\n",
       "      <th>...</th>\n",
       "      <td>...</td>\n",
       "      <td>...</td>\n",
       "      <td>...</td>\n",
       "      <td>...</td>\n",
       "      <td>...</td>\n",
       "    </tr>\n",
       "    <tr>\n",
       "      <th>2251</th>\n",
       "      <td>2024-01-12</td>\n",
       "      <td>15.260923</td>\n",
       "      <td>15.260923</td>\n",
       "      <td>15.208445</td>\n",
       "      <td>15.218883</td>\n",
       "    </tr>\n",
       "    <tr>\n",
       "      <th>2252</th>\n",
       "      <td>2024-01-14</td>\n",
       "      <td>15.204556</td>\n",
       "      <td>15.204556</td>\n",
       "      <td>15.204556</td>\n",
       "      <td>15.204556</td>\n",
       "    </tr>\n",
       "    <tr>\n",
       "      <th>2253</th>\n",
       "      <td>2024-01-15</td>\n",
       "      <td>15.217113</td>\n",
       "      <td>15.217113</td>\n",
       "      <td>15.215609</td>\n",
       "      <td>15.215609</td>\n",
       "    </tr>\n",
       "    <tr>\n",
       "      <th>2254</th>\n",
       "      <td>2024-01-23</td>\n",
       "      <td>15.300681</td>\n",
       "      <td>15.300681</td>\n",
       "      <td>15.300681</td>\n",
       "      <td>15.300681</td>\n",
       "    </tr>\n",
       "    <tr>\n",
       "      <th>2255</th>\n",
       "      <td>2024-01-24</td>\n",
       "      <td>15.327337</td>\n",
       "      <td>15.376074</td>\n",
       "      <td>15.327337</td>\n",
       "      <td>15.376074</td>\n",
       "    </tr>\n",
       "  </tbody>\n",
       "</table>\n",
       "<p>2256 rows × 5 columns</p>\n",
       "</div>"
      ],
      "text/plain": [
       "            Date  Opening rate (GBPGHS)  Peak rate (GBPGHS)  \\\n",
       "0     2017-01-01               5.112800            5.112800   \n",
       "1     2017-01-02               5.267100            5.267100   \n",
       "2     2017-01-03               5.181200            5.181200   \n",
       "3     2017-01-04               5.158700            5.207100   \n",
       "4     2017-01-05               5.261700            5.261700   \n",
       "...          ...                    ...                 ...   \n",
       "2251  2024-01-12              15.260923           15.260923   \n",
       "2252  2024-01-14              15.204556           15.204556   \n",
       "2253  2024-01-15              15.217113           15.217113   \n",
       "2254  2024-01-23              15.300681           15.300681   \n",
       "2255  2024-01-24              15.327337           15.376074   \n",
       "\n",
       "      Lowest rate (GBPGHS)  Closing rate (GBPGHS)  \n",
       "0                 5.112800               5.112800  \n",
       "1                 5.260600               5.266000  \n",
       "2                 5.153600               5.155300  \n",
       "3                 5.158700               5.179300  \n",
       "4                 5.254600               5.256000  \n",
       "...                    ...                    ...  \n",
       "2251             15.208445              15.218883  \n",
       "2252             15.204556              15.204556  \n",
       "2253             15.215609              15.215609  \n",
       "2254             15.300681              15.300681  \n",
       "2255             15.327337              15.376074  \n",
       "\n",
       "[2256 rows x 5 columns]"
      ]
     },
     "execution_count": 3,
     "metadata": {},
     "output_type": "execute_result"
    }
   ],
   "source": [
    "latest_data"
   ]
  },
  {
   "cell_type": "code",
   "execution_count": 4,
   "metadata": {},
   "outputs": [],
   "source": [
    "features, target = transform_ts_data_into_features_and_target(original_data=latest_data)"
   ]
  },
  {
   "cell_type": "code",
   "execution_count": 5,
   "metadata": {},
   "outputs": [],
   "source": [
    "pipeline = get_preprocessing_pipeline()\n",
    "pipeline.fit_transform(features)"
   ]
  }
 ],
 "metadata": {
  "kernelspec": {
   "display_name": "src-aJ2Q5oif-py3.11",
   "language": "python",
   "name": "python3"
  },
  "language_info": {
   "codemirror_mode": {
    "name": "ipython",
    "version": 3
   },
   "file_extension": ".py",
   "mimetype": "text/x-python",
   "name": "python",
   "nbconvert_exporter": "python",
   "pygments_lexer": "ipython3",
   "version": "3.11.5"
  },
  "orig_nbformat": 4
 },
 "nbformat": 4,
 "nbformat_minor": 2
}
